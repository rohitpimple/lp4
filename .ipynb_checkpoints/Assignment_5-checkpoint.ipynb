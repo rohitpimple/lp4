{
  "cells": [
    {
      "cell_type": "markdown",
      "id": "7a31cb7b-5463-41b8-89f3-80c97826bbb4",
      "metadata": {
        "id": "7a31cb7b-5463-41b8-89f3-80c97826bbb4"
      },
      "source": [
        "## Problem Statement 7\n",
        "### Implement the Continuous Bag of Words (CBOW) Model for the given (textual document 2) using the below steps:\n",
        "    a. Data preparation\n",
        "    b. Generate training data\n",
        "    c. Train model\n",
        "    d. Output"
      ]
    },
    {
      "cell_type": "code",
      "execution_count": 1,
      "id": "548f4fd4-7443-4cc7-b95d-4c76df89b18c",
      "metadata": {
        "id": "548f4fd4-7443-4cc7-b95d-4c76df89b18c"
      },
      "outputs": [],
      "source": [
        "from tensorflow.keras.preprocessing import text\n",
        "from tensorflow.keras.preprocessing import sequence\n",
        "from tensorflow.keras.preprocessing.text import Tokenizer\n",
        "from tensorflow.keras.preprocessing.sequence import pad_sequences\n",
        "from tensorflow.keras.utils import to_categorical  # instead of np_utils\n",
        "\n",
        "\n",
        "from tensorflow.keras.models import Sequential\n",
        "from tensorflow.keras.layers import Dense, Embedding, Lambda\n",
        "from tensorflow.keras import backend as K\n",
        "\n",
        "from sklearn.metrics.pairwise import euclidean_distances\n",
        "\n",
        "import numpy as np\n",
        "import pandas as pd"
      ]
    },
    {
      "cell_type": "code",
      "execution_count": 2,
      "id": "2684cca7-618b-4922-b0f3-d483bdecd75e",
      "metadata": {
        "id": "2684cca7-618b-4922-b0f3-d483bdecd75e"
      },
      "outputs": [],
      "source": [
        "data=\"\"\"But I must explain to you how all this mistaken idea of denouncing pleasure and praising pain was born and I will give you a complete account of the system, and expound the actual teachings of the great explorer of the truth, the master-builder of human happiness. No one rejects, dislikes, or avoids pleasure itself, because it is pleasure, but because those who do not know how to pursue pleasure rationally encounter consequences that are extremely painful. Nor again is there anyone who loves or pursues or desires to obtain pain of itself, because it is pain, but because occasionally circumstances occur in which toil and pain can procure him some great pleasure. To take a trivial example, which of us ever undertakes laborious physical exercise, except to obtain some advantage from it? But who has any right to find fault with a man who chooses to enjoy a pleasure that has no annoying consequences, or one who avoids a pain that produces no resultant pleasure?\"\"\"\n",
        "\n",
        "dl_data=data.split()"
      ]
    },
    {
      "cell_type": "markdown",
      "id": "47a2a2e4-6fd5-47e7-bae0-acd04bca3a50",
      "metadata": {
        "id": "47a2a2e4-6fd5-47e7-bae0-acd04bca3a50"
      },
      "source": [
        "## a. Data preparation"
      ]
    },
    {
      "cell_type": "code",
      "execution_count": 3,
      "id": "ed1ad1f1-6fff-4828-8c1e-31580ca9e043",
      "metadata": {
        "id": "ed1ad1f1-6fff-4828-8c1e-31580ca9e043"
      },
      "outputs": [],
      "source": [
        "tokenizer = Tokenizer()\n",
        "tokenizer.fit_on_texts(dl_data)\n",
        "\n",
        "words2id = tokenizer.word_index\n",
        "words2id['PAD']=0\n",
        "\n",
        "id2words = {v:k for k,v in words2id.items()}\n",
        "\n",
        "wids = [[words2id[w] for w in text.text_to_word_sequence(doc)] for doc in dl_data]\n",
        "\n",
        "vocab_size=len(words2id)\n",
        "embed_size=100\n",
        "window_size=2"
      ]
    },
    {
      "cell_type": "code",
      "execution_count": 4,
      "id": "1929a8fa-c3c6-416b-a283-725f239241b4",
      "metadata": {
        "id": "1929a8fa-c3c6-416b-a283-725f239241b4",
        "outputId": "1dd840b3-083b-4225-c732-e0227654d771",
        "colab": {
          "base_uri": "https://localhost:8080/"
        }
      },
      "outputs": [
        {
          "output_type": "stream",
          "name": "stdout",
          "text": [
            "Vocabulary size:  102\n",
            "Vocabulary items:  [('to', 1), ('of', 2), ('pleasure', 3), ('pain', 4), ('a', 5), ('the', 6), ('who', 7), ('but', 8), ('and', 9), ('or', 10)]\n"
          ]
        }
      ],
      "source": [
        "print(\"Vocabulary size: \", vocab_size)\n",
        "print(\"Vocabulary items: \", list(words2id.items())[:10])"
      ]
    },
    {
      "cell_type": "markdown",
      "id": "1a202f40-f7fc-4351-96ce-efeb2be2b16b",
      "metadata": {
        "id": "1a202f40-f7fc-4351-96ce-efeb2be2b16b"
      },
      "source": [
        "## b. Generating training data"
      ]
    },
    {
      "cell_type": "code",
      "execution_count": 9,
      "id": "a181c722-8bbd-4c3e-ada1-ac6a7298936c",
      "metadata": {
        "id": "a181c722-8bbd-4c3e-ada1-ac6a7298936c"
      },
      "outputs": [],
      "source": [
        "def pairwise(corpus, window_size, vocab_size):\n",
        "    context_length=window_size*2\n",
        "\n",
        "    for words in corpus:\n",
        "        sentence_length=len(words)\n",
        "        for index, word in enumerate(words):\n",
        "            context_words=[]\n",
        "            label_word=[]\n",
        "            start = index - window_size\n",
        "            end = index + window_size + 1\n",
        "\n",
        "            context_words.append([words[i]\n",
        "                                 for i in range(start, end)\n",
        "                                 if 0 <= i < sentence_length\n",
        "                                 and i != index])\n",
        "            label_word.append(word)\n",
        "\n",
        "            x = pad_sequences(context_words, maxlen=context_length)\n",
        "            y = to_categorical(label_word, vocab_size)\n",
        "            yield(x,y)"
      ]
    },
    {
      "cell_type": "markdown",
      "id": "f4cf5938-a1b4-4dce-ac6f-0cf05087ae00",
      "metadata": {
        "id": "f4cf5938-a1b4-4dce-ac6f-0cf05087ae00"
      },
      "source": [
        "## c. Training the model"
      ]
    },
    {
      "cell_type": "code",
      "execution_count": 10,
      "id": "99f5fa08-deee-48ca-85dc-a5e6ae5e700c",
      "metadata": {
        "id": "99f5fa08-deee-48ca-85dc-a5e6ae5e700c"
      },
      "outputs": [],
      "source": [
        "cbow = Sequential()\n",
        "\n",
        "cbow.add(Embedding(input_dim = vocab_size, output_dim = embed_size, input_length = window_size * 2))\n",
        "cbow.add(Lambda(lambda x:K.mean(x, axis = 1), output_shape=(embed_size,)))\n",
        "cbow.add(Dense(vocab_size, activation=\"softmax\"))\n",
        "\n",
        "cbow.compile(loss=\"categorical_crossentropy\", optimizer=\"rmsprop\")"
      ]
    },
    {
      "cell_type": "code",
      "execution_count": 11,
      "id": "6b4b3f3a-ce4f-49ac-ba7c-d345b4bb1a36",
      "metadata": {
        "id": "6b4b3f3a-ce4f-49ac-ba7c-d345b4bb1a36",
        "outputId": "21a214d8-0425-4c3c-df78-8df646305d2e",
        "colab": {
          "base_uri": "https://localhost:8080/",
          "height": 252
        }
      },
      "outputs": [
        {
          "output_type": "display_data",
          "data": {
            "text/plain": [
              "\u001b[1mModel: \"sequential_1\"\u001b[0m\n"
            ],
            "text/html": [
              "<pre style=\"white-space:pre;overflow-x:auto;line-height:normal;font-family:Menlo,'DejaVu Sans Mono',consolas,'Courier New',monospace\"><span style=\"font-weight: bold\">Model: \"sequential_1\"</span>\n",
              "</pre>\n"
            ]
          },
          "metadata": {}
        },
        {
          "output_type": "display_data",
          "data": {
            "text/plain": [
              "┏━━━━━━━━━━━━━━━━━━━━━━━━━━━━━━━━━━━━━━┳━━━━━━━━━━━━━━━━━━━━━━━━━━━━━┳━━━━━━━━━━━━━━━━━┓\n",
              "┃\u001b[1m \u001b[0m\u001b[1mLayer (type)                        \u001b[0m\u001b[1m \u001b[0m┃\u001b[1m \u001b[0m\u001b[1mOutput Shape               \u001b[0m\u001b[1m \u001b[0m┃\u001b[1m \u001b[0m\u001b[1m        Param #\u001b[0m\u001b[1m \u001b[0m┃\n",
              "┡━━━━━━━━━━━━━━━━━━━━━━━━━━━━━━━━━━━━━━╇━━━━━━━━━━━━━━━━━━━━━━━━━━━━━╇━━━━━━━━━━━━━━━━━┩\n",
              "│ embedding_1 (\u001b[38;5;33mEmbedding\u001b[0m)              │ ?                           │     \u001b[38;5;34m0\u001b[0m (unbuilt) │\n",
              "├──────────────────────────────────────┼─────────────────────────────┼─────────────────┤\n",
              "│ lambda_1 (\u001b[38;5;33mLambda\u001b[0m)                    │ ?                           │     \u001b[38;5;34m0\u001b[0m (unbuilt) │\n",
              "├──────────────────────────────────────┼─────────────────────────────┼─────────────────┤\n",
              "│ dense_1 (\u001b[38;5;33mDense\u001b[0m)                      │ ?                           │     \u001b[38;5;34m0\u001b[0m (unbuilt) │\n",
              "└──────────────────────────────────────┴─────────────────────────────┴─────────────────┘\n"
            ],
            "text/html": [
              "<pre style=\"white-space:pre;overflow-x:auto;line-height:normal;font-family:Menlo,'DejaVu Sans Mono',consolas,'Courier New',monospace\">┏━━━━━━━━━━━━━━━━━━━━━━━━━━━━━━━━━━━━━━┳━━━━━━━━━━━━━━━━━━━━━━━━━━━━━┳━━━━━━━━━━━━━━━━━┓\n",
              "┃<span style=\"font-weight: bold\"> Layer (type)                         </span>┃<span style=\"font-weight: bold\"> Output Shape                </span>┃<span style=\"font-weight: bold\">         Param # </span>┃\n",
              "┡━━━━━━━━━━━━━━━━━━━━━━━━━━━━━━━━━━━━━━╇━━━━━━━━━━━━━━━━━━━━━━━━━━━━━╇━━━━━━━━━━━━━━━━━┩\n",
              "│ embedding_1 (<span style=\"color: #0087ff; text-decoration-color: #0087ff\">Embedding</span>)              │ ?                           │     <span style=\"color: #00af00; text-decoration-color: #00af00\">0</span> (unbuilt) │\n",
              "├──────────────────────────────────────┼─────────────────────────────┼─────────────────┤\n",
              "│ lambda_1 (<span style=\"color: #0087ff; text-decoration-color: #0087ff\">Lambda</span>)                    │ ?                           │     <span style=\"color: #00af00; text-decoration-color: #00af00\">0</span> (unbuilt) │\n",
              "├──────────────────────────────────────┼─────────────────────────────┼─────────────────┤\n",
              "│ dense_1 (<span style=\"color: #0087ff; text-decoration-color: #0087ff\">Dense</span>)                      │ ?                           │     <span style=\"color: #00af00; text-decoration-color: #00af00\">0</span> (unbuilt) │\n",
              "└──────────────────────────────────────┴─────────────────────────────┴─────────────────┘\n",
              "</pre>\n"
            ]
          },
          "metadata": {}
        },
        {
          "output_type": "display_data",
          "data": {
            "text/plain": [
              "\u001b[1m Total params: \u001b[0m\u001b[38;5;34m0\u001b[0m (0.00 B)\n"
            ],
            "text/html": [
              "<pre style=\"white-space:pre;overflow-x:auto;line-height:normal;font-family:Menlo,'DejaVu Sans Mono',consolas,'Courier New',monospace\"><span style=\"font-weight: bold\"> Total params: </span><span style=\"color: #00af00; text-decoration-color: #00af00\">0</span> (0.00 B)\n",
              "</pre>\n"
            ]
          },
          "metadata": {}
        },
        {
          "output_type": "display_data",
          "data": {
            "text/plain": [
              "\u001b[1m Trainable params: \u001b[0m\u001b[38;5;34m0\u001b[0m (0.00 B)\n"
            ],
            "text/html": [
              "<pre style=\"white-space:pre;overflow-x:auto;line-height:normal;font-family:Menlo,'DejaVu Sans Mono',consolas,'Courier New',monospace\"><span style=\"font-weight: bold\"> Trainable params: </span><span style=\"color: #00af00; text-decoration-color: #00af00\">0</span> (0.00 B)\n",
              "</pre>\n"
            ]
          },
          "metadata": {}
        },
        {
          "output_type": "display_data",
          "data": {
            "text/plain": [
              "\u001b[1m Non-trainable params: \u001b[0m\u001b[38;5;34m0\u001b[0m (0.00 B)\n"
            ],
            "text/html": [
              "<pre style=\"white-space:pre;overflow-x:auto;line-height:normal;font-family:Menlo,'DejaVu Sans Mono',consolas,'Courier New',monospace\"><span style=\"font-weight: bold\"> Non-trainable params: </span><span style=\"color: #00af00; text-decoration-color: #00af00\">0</span> (0.00 B)\n",
              "</pre>\n"
            ]
          },
          "metadata": {}
        },
        {
          "output_type": "stream",
          "name": "stdout",
          "text": [
            "None\n"
          ]
        }
      ],
      "source": [
        "print(cbow.summary())"
      ]
    },
    {
      "cell_type": "code",
      "execution_count": 12,
      "id": "f3e26938-c8a4-4d58-be02-897a213b15eb",
      "metadata": {
        "id": "f3e26938-c8a4-4d58-be02-897a213b15eb",
        "outputId": "61c8a666-7cff-4114-a37a-0e95b69136a1",
        "colab": {
          "base_uri": "https://localhost:8080/"
        }
      },
      "outputs": [
        {
          "output_type": "stream",
          "name": "stderr",
          "text": [
            "WARNING:tensorflow:5 out of the last 5 calls to <function TensorFlowTrainer.make_train_function.<locals>.one_step_on_iterator at 0x79029a3c2cb0> triggered tf.function retracing. Tracing is expensive and the excessive number of tracings could be due to (1) creating @tf.function repeatedly in a loop, (2) passing tensors with different shapes, (3) passing Python objects instead of tensors. For (1), please define your @tf.function outside of the loop. For (2), @tf.function has reduce_retracing=True option that can avoid unnecessary retracing. For (3), please refer to https://www.tensorflow.org/guide/function#controlling_retracing and https://www.tensorflow.org/api_docs/python/tf/function for  more details.\n",
            "WARNING:tensorflow:6 out of the last 6 calls to <function TensorFlowTrainer.make_train_function.<locals>.one_step_on_iterator at 0x79029a3c2cb0> triggered tf.function retracing. Tracing is expensive and the excessive number of tracings could be due to (1) creating @tf.function repeatedly in a loop, (2) passing tensors with different shapes, (3) passing Python objects instead of tensors. For (1), please define your @tf.function outside of the loop. For (2), @tf.function has reduce_retracing=True option that can avoid unnecessary retracing. For (3), please refer to https://www.tensorflow.org/guide/function#controlling_retracing and https://www.tensorflow.org/api_docs/python/tf/function for  more details.\n"
          ]
        },
        {
          "output_type": "stream",
          "name": "stdout",
          "text": [
            "Epoch: 1 Loss: 772.9822373390198\n",
            "\n",
            "Epoch: 2 Loss: 769.3258991241455\n",
            "\n"
          ]
        }
      ],
      "source": [
        "for epoch in range(1,3):\n",
        "    loss=0\n",
        "\n",
        "    for x,y in pairwise(corpus=wids, window_size=window_size, vocab_size=vocab_size):\n",
        "        loss += cbow.train_on_batch(x, y)\n",
        "    print(\"Epoch: {} Loss: {}\".format(epoch,loss))\n",
        "    print()"
      ]
    },
    {
      "cell_type": "code",
      "execution_count": 13,
      "id": "785e035d-882e-4942-b565-048bc5402274",
      "metadata": {
        "id": "785e035d-882e-4942-b565-048bc5402274",
        "outputId": "637d4392-5c15-4403-8876-b37f06f93381",
        "colab": {
          "base_uri": "https://localhost:8080/",
          "height": 273
        }
      },
      "outputs": [
        {
          "output_type": "stream",
          "name": "stdout",
          "text": [
            "(101, 100)\n"
          ]
        },
        {
          "output_type": "execute_result",
          "data": {
            "text/plain": [
              "                0         1         2         3         4         5   \\\n",
              "of       -0.022603  0.040142 -0.025886 -0.022321  0.022523 -0.047236   \n",
              "pleasure  0.010180  0.044887 -0.009691 -0.030053 -0.000927  0.041119   \n",
              "pain      0.003954 -0.042514 -0.002135  0.031922 -0.028882  0.000271   \n",
              "a        -0.047984  0.039060  0.017404 -0.040883 -0.044345  0.004824   \n",
              "the       0.017201  0.004688 -0.035803 -0.007956  0.045694 -0.030119   \n",
              "\n",
              "                6         7         8         9   ...        90        91  \\\n",
              "of        0.031143 -0.026452  0.038319 -0.034602  ... -0.005786 -0.022085   \n",
              "pleasure  0.021600  0.035807  0.008474  0.019545  ... -0.002988  0.014158   \n",
              "pain     -0.012278 -0.003837 -0.021206  0.040454  ... -0.010491  0.041075   \n",
              "a        -0.041638  0.039883  0.022970 -0.017055  ... -0.004126  0.022216   \n",
              "the      -0.028586 -0.040924 -0.042028 -0.043808  ...  0.031160  0.033206   \n",
              "\n",
              "                92        93        94        95        96        97  \\\n",
              "of        0.002123  0.014003 -0.035298 -0.038413  0.045946  0.043740   \n",
              "pleasure  0.019466  0.028359 -0.001384 -0.000390  0.007665 -0.012741   \n",
              "pain     -0.010725 -0.036092  0.049511  0.028230 -0.007015  0.012660   \n",
              "a        -0.019803 -0.006165 -0.034220  0.029335  0.048193  0.016736   \n",
              "the      -0.038213  0.014124  0.015612  0.023999 -0.031758  0.000036   \n",
              "\n",
              "                98        99  \n",
              "of        0.025467  0.034901  \n",
              "pleasure  0.000606  0.038100  \n",
              "pain     -0.031095 -0.035398  \n",
              "a         0.025469  0.004937  \n",
              "the      -0.027305 -0.018648  \n",
              "\n",
              "[5 rows x 100 columns]"
            ],
            "text/html": [
              "\n",
              "  <div id=\"df-35a1063f-3864-40d4-841f-35fcb26dc3fd\" class=\"colab-df-container\">\n",
              "    <div>\n",
              "<style scoped>\n",
              "    .dataframe tbody tr th:only-of-type {\n",
              "        vertical-align: middle;\n",
              "    }\n",
              "\n",
              "    .dataframe tbody tr th {\n",
              "        vertical-align: top;\n",
              "    }\n",
              "\n",
              "    .dataframe thead th {\n",
              "        text-align: right;\n",
              "    }\n",
              "</style>\n",
              "<table border=\"1\" class=\"dataframe\">\n",
              "  <thead>\n",
              "    <tr style=\"text-align: right;\">\n",
              "      <th></th>\n",
              "      <th>0</th>\n",
              "      <th>1</th>\n",
              "      <th>2</th>\n",
              "      <th>3</th>\n",
              "      <th>4</th>\n",
              "      <th>5</th>\n",
              "      <th>6</th>\n",
              "      <th>7</th>\n",
              "      <th>8</th>\n",
              "      <th>9</th>\n",
              "      <th>...</th>\n",
              "      <th>90</th>\n",
              "      <th>91</th>\n",
              "      <th>92</th>\n",
              "      <th>93</th>\n",
              "      <th>94</th>\n",
              "      <th>95</th>\n",
              "      <th>96</th>\n",
              "      <th>97</th>\n",
              "      <th>98</th>\n",
              "      <th>99</th>\n",
              "    </tr>\n",
              "  </thead>\n",
              "  <tbody>\n",
              "    <tr>\n",
              "      <th>of</th>\n",
              "      <td>-0.022603</td>\n",
              "      <td>0.040142</td>\n",
              "      <td>-0.025886</td>\n",
              "      <td>-0.022321</td>\n",
              "      <td>0.022523</td>\n",
              "      <td>-0.047236</td>\n",
              "      <td>0.031143</td>\n",
              "      <td>-0.026452</td>\n",
              "      <td>0.038319</td>\n",
              "      <td>-0.034602</td>\n",
              "      <td>...</td>\n",
              "      <td>-0.005786</td>\n",
              "      <td>-0.022085</td>\n",
              "      <td>0.002123</td>\n",
              "      <td>0.014003</td>\n",
              "      <td>-0.035298</td>\n",
              "      <td>-0.038413</td>\n",
              "      <td>0.045946</td>\n",
              "      <td>0.043740</td>\n",
              "      <td>0.025467</td>\n",
              "      <td>0.034901</td>\n",
              "    </tr>\n",
              "    <tr>\n",
              "      <th>pleasure</th>\n",
              "      <td>0.010180</td>\n",
              "      <td>0.044887</td>\n",
              "      <td>-0.009691</td>\n",
              "      <td>-0.030053</td>\n",
              "      <td>-0.000927</td>\n",
              "      <td>0.041119</td>\n",
              "      <td>0.021600</td>\n",
              "      <td>0.035807</td>\n",
              "      <td>0.008474</td>\n",
              "      <td>0.019545</td>\n",
              "      <td>...</td>\n",
              "      <td>-0.002988</td>\n",
              "      <td>0.014158</td>\n",
              "      <td>0.019466</td>\n",
              "      <td>0.028359</td>\n",
              "      <td>-0.001384</td>\n",
              "      <td>-0.000390</td>\n",
              "      <td>0.007665</td>\n",
              "      <td>-0.012741</td>\n",
              "      <td>0.000606</td>\n",
              "      <td>0.038100</td>\n",
              "    </tr>\n",
              "    <tr>\n",
              "      <th>pain</th>\n",
              "      <td>0.003954</td>\n",
              "      <td>-0.042514</td>\n",
              "      <td>-0.002135</td>\n",
              "      <td>0.031922</td>\n",
              "      <td>-0.028882</td>\n",
              "      <td>0.000271</td>\n",
              "      <td>-0.012278</td>\n",
              "      <td>-0.003837</td>\n",
              "      <td>-0.021206</td>\n",
              "      <td>0.040454</td>\n",
              "      <td>...</td>\n",
              "      <td>-0.010491</td>\n",
              "      <td>0.041075</td>\n",
              "      <td>-0.010725</td>\n",
              "      <td>-0.036092</td>\n",
              "      <td>0.049511</td>\n",
              "      <td>0.028230</td>\n",
              "      <td>-0.007015</td>\n",
              "      <td>0.012660</td>\n",
              "      <td>-0.031095</td>\n",
              "      <td>-0.035398</td>\n",
              "    </tr>\n",
              "    <tr>\n",
              "      <th>a</th>\n",
              "      <td>-0.047984</td>\n",
              "      <td>0.039060</td>\n",
              "      <td>0.017404</td>\n",
              "      <td>-0.040883</td>\n",
              "      <td>-0.044345</td>\n",
              "      <td>0.004824</td>\n",
              "      <td>-0.041638</td>\n",
              "      <td>0.039883</td>\n",
              "      <td>0.022970</td>\n",
              "      <td>-0.017055</td>\n",
              "      <td>...</td>\n",
              "      <td>-0.004126</td>\n",
              "      <td>0.022216</td>\n",
              "      <td>-0.019803</td>\n",
              "      <td>-0.006165</td>\n",
              "      <td>-0.034220</td>\n",
              "      <td>0.029335</td>\n",
              "      <td>0.048193</td>\n",
              "      <td>0.016736</td>\n",
              "      <td>0.025469</td>\n",
              "      <td>0.004937</td>\n",
              "    </tr>\n",
              "    <tr>\n",
              "      <th>the</th>\n",
              "      <td>0.017201</td>\n",
              "      <td>0.004688</td>\n",
              "      <td>-0.035803</td>\n",
              "      <td>-0.007956</td>\n",
              "      <td>0.045694</td>\n",
              "      <td>-0.030119</td>\n",
              "      <td>-0.028586</td>\n",
              "      <td>-0.040924</td>\n",
              "      <td>-0.042028</td>\n",
              "      <td>-0.043808</td>\n",
              "      <td>...</td>\n",
              "      <td>0.031160</td>\n",
              "      <td>0.033206</td>\n",
              "      <td>-0.038213</td>\n",
              "      <td>0.014124</td>\n",
              "      <td>0.015612</td>\n",
              "      <td>0.023999</td>\n",
              "      <td>-0.031758</td>\n",
              "      <td>0.000036</td>\n",
              "      <td>-0.027305</td>\n",
              "      <td>-0.018648</td>\n",
              "    </tr>\n",
              "  </tbody>\n",
              "</table>\n",
              "<p>5 rows × 100 columns</p>\n",
              "</div>\n",
              "    <div class=\"colab-df-buttons\">\n",
              "\n",
              "  <div class=\"colab-df-container\">\n",
              "    <button class=\"colab-df-convert\" onclick=\"convertToInteractive('df-35a1063f-3864-40d4-841f-35fcb26dc3fd')\"\n",
              "            title=\"Convert this dataframe to an interactive table.\"\n",
              "            style=\"display:none;\">\n",
              "\n",
              "  <svg xmlns=\"http://www.w3.org/2000/svg\" height=\"24px\" viewBox=\"0 -960 960 960\">\n",
              "    <path d=\"M120-120v-720h720v720H120Zm60-500h600v-160H180v160Zm220 220h160v-160H400v160Zm0 220h160v-160H400v160ZM180-400h160v-160H180v160Zm440 0h160v-160H620v160ZM180-180h160v-160H180v160Zm440 0h160v-160H620v160Z\"/>\n",
              "  </svg>\n",
              "    </button>\n",
              "\n",
              "  <style>\n",
              "    .colab-df-container {\n",
              "      display:flex;\n",
              "      gap: 12px;\n",
              "    }\n",
              "\n",
              "    .colab-df-convert {\n",
              "      background-color: #E8F0FE;\n",
              "      border: none;\n",
              "      border-radius: 50%;\n",
              "      cursor: pointer;\n",
              "      display: none;\n",
              "      fill: #1967D2;\n",
              "      height: 32px;\n",
              "      padding: 0 0 0 0;\n",
              "      width: 32px;\n",
              "    }\n",
              "\n",
              "    .colab-df-convert:hover {\n",
              "      background-color: #E2EBFA;\n",
              "      box-shadow: 0px 1px 2px rgba(60, 64, 67, 0.3), 0px 1px 3px 1px rgba(60, 64, 67, 0.15);\n",
              "      fill: #174EA6;\n",
              "    }\n",
              "\n",
              "    .colab-df-buttons div {\n",
              "      margin-bottom: 4px;\n",
              "    }\n",
              "\n",
              "    [theme=dark] .colab-df-convert {\n",
              "      background-color: #3B4455;\n",
              "      fill: #D2E3FC;\n",
              "    }\n",
              "\n",
              "    [theme=dark] .colab-df-convert:hover {\n",
              "      background-color: #434B5C;\n",
              "      box-shadow: 0px 1px 3px 1px rgba(0, 0, 0, 0.15);\n",
              "      filter: drop-shadow(0px 1px 2px rgba(0, 0, 0, 0.3));\n",
              "      fill: #FFFFFF;\n",
              "    }\n",
              "  </style>\n",
              "\n",
              "    <script>\n",
              "      const buttonEl =\n",
              "        document.querySelector('#df-35a1063f-3864-40d4-841f-35fcb26dc3fd button.colab-df-convert');\n",
              "      buttonEl.style.display =\n",
              "        google.colab.kernel.accessAllowed ? 'block' : 'none';\n",
              "\n",
              "      async function convertToInteractive(key) {\n",
              "        const element = document.querySelector('#df-35a1063f-3864-40d4-841f-35fcb26dc3fd');\n",
              "        const dataTable =\n",
              "          await google.colab.kernel.invokeFunction('convertToInteractive',\n",
              "                                                    [key], {});\n",
              "        if (!dataTable) return;\n",
              "\n",
              "        const docLinkHtml = 'Like what you see? Visit the ' +\n",
              "          '<a target=\"_blank\" href=https://colab.research.google.com/notebooks/data_table.ipynb>data table notebook</a>'\n",
              "          + ' to learn more about interactive tables.';\n",
              "        element.innerHTML = '';\n",
              "        dataTable['output_type'] = 'display_data';\n",
              "        await google.colab.output.renderOutput(dataTable, element);\n",
              "        const docLink = document.createElement('div');\n",
              "        docLink.innerHTML = docLinkHtml;\n",
              "        element.appendChild(docLink);\n",
              "      }\n",
              "    </script>\n",
              "  </div>\n",
              "\n",
              "\n",
              "<div id=\"df-76c6da4d-6a53-403d-bee8-eb38deee007a\">\n",
              "  <button class=\"colab-df-quickchart\" onclick=\"quickchart('df-76c6da4d-6a53-403d-bee8-eb38deee007a')\"\n",
              "            title=\"Suggest charts\"\n",
              "            style=\"display:none;\">\n",
              "\n",
              "<svg xmlns=\"http://www.w3.org/2000/svg\" height=\"24px\"viewBox=\"0 0 24 24\"\n",
              "     width=\"24px\">\n",
              "    <g>\n",
              "        <path d=\"M19 3H5c-1.1 0-2 .9-2 2v14c0 1.1.9 2 2 2h14c1.1 0 2-.9 2-2V5c0-1.1-.9-2-2-2zM9 17H7v-7h2v7zm4 0h-2V7h2v10zm4 0h-2v-4h2v4z\"/>\n",
              "    </g>\n",
              "</svg>\n",
              "  </button>\n",
              "\n",
              "<style>\n",
              "  .colab-df-quickchart {\n",
              "      --bg-color: #E8F0FE;\n",
              "      --fill-color: #1967D2;\n",
              "      --hover-bg-color: #E2EBFA;\n",
              "      --hover-fill-color: #174EA6;\n",
              "      --disabled-fill-color: #AAA;\n",
              "      --disabled-bg-color: #DDD;\n",
              "  }\n",
              "\n",
              "  [theme=dark] .colab-df-quickchart {\n",
              "      --bg-color: #3B4455;\n",
              "      --fill-color: #D2E3FC;\n",
              "      --hover-bg-color: #434B5C;\n",
              "      --hover-fill-color: #FFFFFF;\n",
              "      --disabled-bg-color: #3B4455;\n",
              "      --disabled-fill-color: #666;\n",
              "  }\n",
              "\n",
              "  .colab-df-quickchart {\n",
              "    background-color: var(--bg-color);\n",
              "    border: none;\n",
              "    border-radius: 50%;\n",
              "    cursor: pointer;\n",
              "    display: none;\n",
              "    fill: var(--fill-color);\n",
              "    height: 32px;\n",
              "    padding: 0;\n",
              "    width: 32px;\n",
              "  }\n",
              "\n",
              "  .colab-df-quickchart:hover {\n",
              "    background-color: var(--hover-bg-color);\n",
              "    box-shadow: 0 1px 2px rgba(60, 64, 67, 0.3), 0 1px 3px 1px rgba(60, 64, 67, 0.15);\n",
              "    fill: var(--button-hover-fill-color);\n",
              "  }\n",
              "\n",
              "  .colab-df-quickchart-complete:disabled,\n",
              "  .colab-df-quickchart-complete:disabled:hover {\n",
              "    background-color: var(--disabled-bg-color);\n",
              "    fill: var(--disabled-fill-color);\n",
              "    box-shadow: none;\n",
              "  }\n",
              "\n",
              "  .colab-df-spinner {\n",
              "    border: 2px solid var(--fill-color);\n",
              "    border-color: transparent;\n",
              "    border-bottom-color: var(--fill-color);\n",
              "    animation:\n",
              "      spin 1s steps(1) infinite;\n",
              "  }\n",
              "\n",
              "  @keyframes spin {\n",
              "    0% {\n",
              "      border-color: transparent;\n",
              "      border-bottom-color: var(--fill-color);\n",
              "      border-left-color: var(--fill-color);\n",
              "    }\n",
              "    20% {\n",
              "      border-color: transparent;\n",
              "      border-left-color: var(--fill-color);\n",
              "      border-top-color: var(--fill-color);\n",
              "    }\n",
              "    30% {\n",
              "      border-color: transparent;\n",
              "      border-left-color: var(--fill-color);\n",
              "      border-top-color: var(--fill-color);\n",
              "      border-right-color: var(--fill-color);\n",
              "    }\n",
              "    40% {\n",
              "      border-color: transparent;\n",
              "      border-right-color: var(--fill-color);\n",
              "      border-top-color: var(--fill-color);\n",
              "    }\n",
              "    60% {\n",
              "      border-color: transparent;\n",
              "      border-right-color: var(--fill-color);\n",
              "    }\n",
              "    80% {\n",
              "      border-color: transparent;\n",
              "      border-right-color: var(--fill-color);\n",
              "      border-bottom-color: var(--fill-color);\n",
              "    }\n",
              "    90% {\n",
              "      border-color: transparent;\n",
              "      border-bottom-color: var(--fill-color);\n",
              "    }\n",
              "  }\n",
              "</style>\n",
              "\n",
              "  <script>\n",
              "    async function quickchart(key) {\n",
              "      const quickchartButtonEl =\n",
              "        document.querySelector('#' + key + ' button');\n",
              "      quickchartButtonEl.disabled = true;  // To prevent multiple clicks.\n",
              "      quickchartButtonEl.classList.add('colab-df-spinner');\n",
              "      try {\n",
              "        const charts = await google.colab.kernel.invokeFunction(\n",
              "            'suggestCharts', [key], {});\n",
              "      } catch (error) {\n",
              "        console.error('Error during call to suggestCharts:', error);\n",
              "      }\n",
              "      quickchartButtonEl.classList.remove('colab-df-spinner');\n",
              "      quickchartButtonEl.classList.add('colab-df-quickchart-complete');\n",
              "    }\n",
              "    (() => {\n",
              "      let quickchartButtonEl =\n",
              "        document.querySelector('#df-76c6da4d-6a53-403d-bee8-eb38deee007a button');\n",
              "      quickchartButtonEl.style.display =\n",
              "        google.colab.kernel.accessAllowed ? 'block' : 'none';\n",
              "    })();\n",
              "  </script>\n",
              "</div>\n",
              "\n",
              "    </div>\n",
              "  </div>\n"
            ],
            "application/vnd.google.colaboratory.intrinsic+json": {
              "type": "dataframe"
            }
          },
          "metadata": {},
          "execution_count": 13
        }
      ],
      "source": [
        "weights = cbow.get_weights()[0]\n",
        "weights = weights[1:]\n",
        "print(weights.shape)\n",
        "\n",
        "pd.DataFrame(weights, index=list(id2words.values())[1:]).head()"
      ]
    },
    {
      "cell_type": "markdown",
      "id": "dac16b55-feae-462b-a3c6-47d58a0284a8",
      "metadata": {
        "id": "dac16b55-feae-462b-a3c6-47d58a0284a8"
      },
      "source": [
        "## d. Output"
      ]
    },
    {
      "cell_type": "code",
      "execution_count": 14,
      "id": "3b47d7c0-0132-45d9-ace3-e79d9780b261",
      "metadata": {
        "id": "3b47d7c0-0132-45d9-ace3-e79d9780b261",
        "outputId": "73b75939-dcb5-4464-ef9d-b4f82aec3b15",
        "colab": {
          "base_uri": "https://localhost:8080/"
        }
      },
      "outputs": [
        {
          "output_type": "stream",
          "name": "stdout",
          "text": [
            "(101, 101)\n"
          ]
        }
      ],
      "source": [
        "distance_matrix = euclidean_distances(weights)\n",
        "print(distance_matrix.shape)"
      ]
    },
    {
      "cell_type": "code",
      "execution_count": 15,
      "id": "d5f14c45-0153-4d59-81b5-2834c23a3c65",
      "metadata": {
        "id": "d5f14c45-0153-4d59-81b5-2834c23a3c65",
        "outputId": "2d5f3bf0-4bc9-4690-c31f-89a44a9481c0",
        "colab": {
          "base_uri": "https://localhost:8080/"
        }
      },
      "outputs": [
        {
          "name": "stdout",
          "output_type": "stream",
          "text": [
            "explain\n"
          ]
        },
        {
          "output_type": "execute_result",
          "data": {
            "text/plain": [
              "{'explain': ['must', 'again', 'exercise', 'denouncing', 'extremely', 'nor']}"
            ]
          },
          "metadata": {},
          "execution_count": 15
        }
      ],
      "source": [
        "inwords = input()\n",
        "\n",
        "similar_words={ search_term: [id2words[idx] for idx in distance_matrix[words2id[search_term]-1].argsort()[0:6]]\n",
        "              for search_term in {inwords}}\n",
        "similar_words"
      ]
    },
    {
      "cell_type": "code",
      "execution_count": null,
      "id": "a6ef7d46-5411-4feb-95b1-eaaba3ebde4a",
      "metadata": {
        "id": "a6ef7d46-5411-4feb-95b1-eaaba3ebde4a"
      },
      "outputs": [],
      "source": []
    }
  ],
  "metadata": {
    "kernelspec": {
      "display_name": "virtual_kernel",
      "language": "python",
      "name": "virtual_kernel"
    },
    "language_info": {
      "codemirror_mode": {
        "name": "ipython",
        "version": 3
      },
      "file_extension": ".py",
      "mimetype": "text/x-python",
      "name": "python",
      "nbconvert_exporter": "python",
      "pygments_lexer": "ipython3",
      "version": "3.11.5"
    },
    "colab": {
      "provenance": []
    }
  },
  "nbformat": 4,
  "nbformat_minor": 5
}