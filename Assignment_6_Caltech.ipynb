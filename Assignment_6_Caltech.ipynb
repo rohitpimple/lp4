{
 "cells": [
  {
   "cell_type": "code",
   "execution_count": null,
   "id": "42144c94-8bef-4c84-8276-737c539d246f",
   "metadata": {},
   "outputs": [],
   "source": [
    "import numpy as np\n",
    "from tensorflow.keras.models import Model\n",
    "from tensorflow.keras.layers import Dense, Flatten, Dropout\n",
    "from tensorflow.keras.applications import VGG16\n",
    "from tensorflow.keras.preprocessing.image import ImageDataGenerator\n",
    "from tensorflow.keras.optimizers import Adam"
   ]
  },
  {
   "cell_type": "code",
   "execution_count": null,
   "id": "10777cfa-c4b9-4451-ae8e-d5bf4d36cc63",
   "metadata": {},
   "outputs": [],
   "source": [
    "root_dir = 'C:\\\\Users\\\\ankur_vc1xnom\\\\Desktop\\LP4\\\\LP-IV-datasets\\\\Object Detection(Ass6)\\\\caltech-101-img'"
   ]
  },
  {
   "cell_type": "code",
   "execution_count": null,
   "id": "33c7f62f-0b37-4106-bd3e-eaafb3ef673e",
   "metadata": {},
   "outputs": [],
   "source": [
    "imgen = ImageDataGenerator(\n",
    "    horizontal_flip = True,\n",
    "    vertical_flip = True,\n",
    "    validation_split = 0.3,\n",
    "    rescale = 1./255\n",
    ")"
   ]
  },
  {
   "cell_type": "code",
   "execution_count": null,
   "id": "b78aa636-b4ea-4ef7-84ff-e7090b61748b",
   "metadata": {},
   "outputs": [],
   "source": [
    "train_img = imgen.flow_from_directory(\n",
    "    root_dir,\n",
    "    target_size = (224,224),\n",
    "    batch_size = 32,\n",
    "    shuffle = True,\n",
    "    subset = 'training'\n",
    ")"
   ]
  },
  {
   "cell_type": "code",
   "execution_count": null,
   "id": "51a172b6-c832-4b78-a3bf-2a1d3a9465c6",
   "metadata": {},
   "outputs": [],
   "source": [
    "test_img = imgen.flow_from_directory(\n",
    "    root_dir,\n",
    "    subset = 'validation',\n",
    "    batch_size = 32,\n",
    "    target_size = (224,224)\n",
    ")"
   ]
  },
  {
   "cell_type": "code",
   "execution_count": null,
   "id": "439f7c55-b85b-4701-be51-574227e75f62",
   "metadata": {},
   "outputs": [],
   "source": [
    "path = 'C:\\\\Users\\\\ankur_vc1xnom\\\\Desktop\\\\LP4\\\\LP-IV-datasets\\\\Object Detection(Ass6)\\\\vgg16_weights_tf_dim_ordering_tf_kernels_notop.h5'"
   ]
  },
  {
   "cell_type": "code",
   "execution_count": null,
   "id": "4e99ad01-5671-4c08-acc1-6232461a4cf3",
   "metadata": {},
   "outputs": [],
   "source": [
    "base_model = VGG16(weights=path, include_top=False, input_shape=(224, 224, 3))"
   ]
  },
  {
   "cell_type": "code",
   "execution_count": null,
   "id": "05f09c4a-ca65-4485-97cb-fc13b4af0c50",
   "metadata": {},
   "outputs": [],
   "source": [
    "for layer in base_model.layers:\n",
    "    layer.trainable = False"
   ]
  },
  {
   "cell_type": "code",
   "execution_count": null,
   "id": "79dee735-e389-4af1-ac02-df4d7486ecd5",
   "metadata": {},
   "outputs": [],
   "source": [
    "x = Flatten()(base_model.output)\n",
    "x = Dense(64, 'relu')(x)\n",
    "x = Dropout(0.3)(x)\n",
    "x = Dense(102, 'softmax')(x)"
   ]
  },
  {
   "cell_type": "code",
   "execution_count": null,
   "id": "67b26866-a00e-4c00-8fe7-5cb441563446",
   "metadata": {},
   "outputs": [],
   "source": [
    "model = Model(inputs = base_model.inputs, outputs = x)"
   ]
  },
  {
   "cell_type": "code",
   "execution_count": null,
   "id": "ae377d0f-f4d9-40e1-8d4d-b1d307e85f5c",
   "metadata": {},
   "outputs": [],
   "source": [
    "model.compile(optimizer = Adam(learning_rate = 0.01), loss = 'categorical_crossentropy', metrics = ['accuracy'])"
   ]
  },
  {
   "cell_type": "code",
   "execution_count": null,
   "id": "a58a431f-3302-4fc8-a468-210816bf102e",
   "metadata": {},
   "outputs": [],
   "source": [
    "history = model.fit(train_img, epochs = 1, validation_data = (test_img))"
   ]
  },
  {
   "cell_type": "code",
   "execution_count": null,
   "id": "2808132f-306a-428b-a422-0f4f746e5b3c",
   "metadata": {},
   "outputs": [],
   "source": [
    "for layer in base_model.layers[:-4]:\n",
    "    layer.trainable = True"
   ]
  },
  {
   "cell_type": "code",
   "execution_count": null,
   "id": "7da3cd91-5265-4e8a-8f46-e2181b618311",
   "metadata": {},
   "outputs": [],
   "source": [
    "model.compile(optimizer = Adam(learning_rate = 0.01), loss = 'categorical_crossentropy', metrics = ['accuracy'])"
   ]
  },
  {
   "cell_type": "code",
   "execution_count": null,
   "id": "433fff2a-ba8f-4113-9767-850c78f6bac4",
   "metadata": {},
   "outputs": [],
   "source": [
    "history = model.fit(train_img, epochs = 1, validation_data = (test_img))"
   ]
  },
  {
   "cell_type": "code",
   "execution_count": null,
   "id": "b987eb42-eff5-4ea3-afae-ffd11435beae",
   "metadata": {},
   "outputs": [],
   "source": []
  }
 ],
 "metadata": {
  "kernelspec": {
   "display_name": "Python 3 (ipykernel)",
   "language": "python",
   "name": "python3"
  },
  "language_info": {
   "codemirror_mode": {
    "name": "ipython",
    "version": 3
   },
   "file_extension": ".py",
   "mimetype": "text/x-python",
   "name": "python",
   "nbconvert_exporter": "python",
   "pygments_lexer": "ipython3",
   "version": "3.11.3"
  }
 },
 "nbformat": 4,
 "nbformat_minor": 5
}
